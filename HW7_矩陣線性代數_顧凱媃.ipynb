{
 "cells": [
  {
   "cell_type": "code",
   "execution_count": null,
   "metadata": {
    "id": "g7_Zhb9Bif-K"
   },
   "outputs": [],
   "source": []
  },
  {
   "cell_type": "markdown",
   "metadata": {
    "id": "GLhLqOtlj1fc"
   },
   "source": [
    "作業目標<br>\n",
    "活用矩陣運算，實做線性代數<br>\n",
    "作業重點<br>\n",
    "線性代數公式應用<br>\n",
    "矩陣相乘維度需要對好，例如:2X3矩陣乘上3X5矩陣得到2X5矩陣"
   ]
  },
  {
   "cell_type": "markdown",
   "metadata": {
    "id": "Rq6NRNxLj4w1"
   },
   "source": [
    "題目:<br>\n",
    "array1 = np.array([[10, 8], [3, 5]]) <br>\n",
    "1. 運用上列array計算反矩陣，乘上原矩陣，並觀察是否為單位矩陣?\n",
    "2. 運用上列array計算特徵值、特徵向量?\n",
    "3. 運用上列array計算SVD?"
   ]
  },
  {
   "cell_type": "code",
   "execution_count": 1,
   "metadata": {
    "id": "YakNatIPj3CW"
   },
   "outputs": [],
   "source": [
    "import numpy as np"
   ]
  },
  {
   "cell_type": "code",
   "execution_count": 10,
   "metadata": {
    "id": "QT4ntMV1kR1c"
   },
   "outputs": [
    {
     "name": "stdout",
     "output_type": "stream",
     "text": [
      "[[1. 0.]\n",
      " [0. 1.]]\n",
      "[[1. 0.]\n",
      " [0. 1.]]\n",
      "[[False  True]\n",
      " [ True  True]]\n"
     ]
    }
   ],
   "source": [
    "#1. 運用上列array計算反矩陣，乘上原矩陣，並觀察是否為單位矩陣?\n",
    "array1 = np.array([[10, 8], [3, 5]])\n",
    "b=np.linalg.inv(array1)\n",
    "c=np.matmul(array1,b)\n",
    "I=np.identity(2)\n",
    "print(c)\n",
    "print(I)\n",
    "print(np.equal(c,I))"
   ]
  },
  {
   "cell_type": "code",
   "execution_count": 17,
   "metadata": {
    "id": "9f7cVxwwk-y9"
   },
   "outputs": [
    {
     "name": "stdout",
     "output_type": "stream",
     "text": [
      "array1的特徵值: [13.  2.] 特徵向量: [[ 0.93632918 -0.70710678]\n",
      " [ 0.35112344  0.70710678]]\n",
      "array1反矩陣的特徵值: [0.07692308 0.5       ] 特徵向量: [[-0.93632918  0.70710678]\n",
      " [-0.35112344 -0.70710678]]\n",
      "array1乘上其反矩陣的特徵值: [1. 1.] 特徵向量: [[1. 0.]\n",
      " [0. 1.]]\n"
     ]
    }
   ],
   "source": [
    "#2. 運用上列array計算特徵值、特徵向量?\n",
    "w_array1, v_array1=np.linalg.eig(array1)\n",
    "w_b, v_b=np.linalg.eig(b)\n",
    "w_c, v_c=np.linalg.eig(c)\n",
    "\n",
    "print(\"array1的特徵值:\",w_array1,\"特徵向量:\",v_array1)\n",
    "print(\"array1反矩陣的特徵值:\",w_b,\"特徵向量:\",v_b)\n",
    "print(\"array1乘上其反矩陣的特徵值:\",w_c,\"特徵向量:\",v_c)"
   ]
  },
  {
   "cell_type": "code",
   "execution_count": 20,
   "metadata": {
    "id": "OHSs5etxnL8D"
   },
   "outputs": [
    {
     "name": "stdout",
     "output_type": "stream",
     "text": [
      "array1的SVD, u: [[-0.91663818 -0.39971796]\n",
      " [-0.39971796  0.91663818]] s: [13.94721714  1.86417116] vh: [[-0.74319741 -0.6690722 ]\n",
      " [-0.6690722   0.74319741]]\n",
      "array1反矩陣的SVD, u: [[-0.6690722   0.74319741]\n",
      " [ 0.74319741  0.6690722 ]] s: [0.53643143 0.07169889] vh: [[-0.39971796  0.91663818]\n",
      " [ 0.91663818  0.39971796]]\n",
      "array1乘上其反矩陣的SVD, u: [[0. 1.]\n",
      " [1. 0.]] s: [1. 1.] vh: [[0. 1.]\n",
      " [1. 0.]]\n"
     ]
    }
   ],
   "source": [
    "#3. 運用上列array計算SVD?\n",
    "u_1,s_1,vh_1=np.linalg.svd(array1)\n",
    "u_2,s_2,vh_2=np.linalg.svd(b)\n",
    "u_3,s_3,vh_3=np.linalg.svd(c)\n",
    "print(\"array1的SVD, u:\",u_1,\"s:\",s_1,\"vh:\",vh_1)\n",
    "print(\"array1反矩陣的SVD, u:\",u_2,\"s:\",s_2,\"vh:\",vh_2)\n",
    "print(\"array1乘上其反矩陣的SVD, u:\",u_3,\"s:\",s_3,\"vh:\",vh_3)\n"
   ]
  },
  {
   "cell_type": "code",
   "execution_count": null,
   "metadata": {
    "id": "5BaVZFRvpXZo"
   },
   "outputs": [],
   "source": []
  }
 ],
 "metadata": {
  "colab": {
   "collapsed_sections": [],
   "name": "作業Hong題目.ipynb",
   "provenance": []
  },
  "kernelspec": {
   "display_name": "Python 3",
   "language": "python",
   "name": "python3"
  },
  "language_info": {
   "codemirror_mode": {
    "name": "ipython",
    "version": 3
   },
   "file_extension": ".py",
   "mimetype": "text/x-python",
   "name": "python",
   "nbconvert_exporter": "python",
   "pygments_lexer": "ipython3",
   "version": "3.8.5"
  }
 },
 "nbformat": 4,
 "nbformat_minor": 1
}
